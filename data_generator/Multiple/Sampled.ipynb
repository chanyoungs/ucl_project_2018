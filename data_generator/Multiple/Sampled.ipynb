{
 "cells": [
  {
   "cell_type": "code",
   "execution_count": 2,
   "metadata": {},
   "outputs": [
    {
     "data": {
      "text/html": [
       "<div id=\"glowscript\" class=\"glowscript\"></div>"
      ],
      "text/plain": [
       "<IPython.core.display.HTML object>"
      ]
     },
     "metadata": {},
     "output_type": "display_data"
    },
    {
     "data": {
      "application/javascript": [
       "window.__context = { glowscript_container: $(\"#glowscript\").removeAttr(\"id\")}"
      ],
      "text/plain": [
       "<IPython.core.display.Javascript object>"
      ]
     },
     "metadata": {},
     "output_type": "display_data"
    }
   ],
   "source": [
    "# Import libraries\n",
    "from vpython import *\n",
    "import numpy as np\n",
    "# import povexport\n",
    "\n",
    "# Set up scene\n",
    "scene = canvas(width=640, height=640)\n",
    "scene.camera.pos = vector(0, 0, 20)\n",
    "[distant_light(direction=vector(0.22, 0.44, 0.88), color=color.gray(0.8)),\n",
    " distant_light(direction=vector(-0.88, -0.22, -0.44), color=color.gray(0.5))]\n",
    "\n",
    "# Define objects\n",
    "Objects = [pyramid(size=vector(5,5,5), visible=False), box(size=vector(5,5,5), visible=False), sphere(radius=2.5, visible=False)]\n",
    "\n",
    "# Positions\n",
    "x_min, y_min, z_min = -10, -10, 0\n",
    "x_max, y_max, z_max = 10, 10, 20\n",
    "\n",
    "# Rotations\n",
    "rx_min, ry_min, rz_min = -pi, -pi, -pi\n",
    "rx_max, ry_max, rz_max = pi, pi, pi\n",
    "\n",
    "# Sample size\n",
    "sample_size = 100000\n",
    "\n",
    "sphere(radius=2.5)"
   ]
  },
  {
   "cell_type": "code",
   "execution_count": null,
   "metadata": {},
   "outputs": [
    {
     "name": "stdout",
     "output_type": "stream",
     "text": [
      "ERROR! Session/line number was not unique in database. History logging moved to new session 473\n"
     ]
    }
   ],
   "source": [
    "for i in range(sample_size):    \n",
    "    # Sample object\n",
    "    obj = np.random.choice(Objects)\n",
    "    \n",
    "    obj.visible = True\n",
    "\n",
    "    # Sample colour\n",
    "    obj.color = vector(np.random.rand(), np.random.rand(), np.random.rand())\n",
    "\n",
    "    # Sample position\n",
    "    x = np.random.uniform(x_min, x_max)\n",
    "    y = np.random.uniform(y_min, y_max)\n",
    "    z = np.random.uniform(z_min, z_max)\n",
    "    obj.pos = vector(x, y, z)\n",
    "    \n",
    "    # Sample orientation\n",
    "    rx = np.random.uniform(rx_min, rx_max)\n",
    "    obj.rotate(angle=rx, axis=vector(1,0,0), origin=obj.pos)    \n",
    "    ry = np.random.uniform(ry_min, ry_max)\n",
    "    obj.rotate(angle=ry, axis=vector(0,1,0), origin=obj.pos)    \n",
    "    rz = np.random.uniform(rz_min, rz_max)\n",
    "    obj.rotate(angle=rz, axis=vector(0,0,1), origin=obj.pos)\n",
    "    \n",
    "    # POV-Export\n",
    "#     povexport.export(filename=\"3dSprites%06d.pov\" % i+1)\n",
    "    \n",
    "    # Make object invisible again\n",
    "\n",
    "    rate(10)\n",
    "    obj.visible = False"
   ]
  },
  {
   "cell_type": "code",
   "execution_count": null,
   "metadata": {
    "collapsed": true
   },
   "outputs": [],
   "source": []
  }
 ],
 "metadata": {
  "kernelspec": {
   "display_name": "VPython",
   "language": "python",
   "name": "vpython"
  },
  "language_info": {
   "codemirror_mode": {
    "name": "ipython",
    "version": 3
   },
   "file_extension": ".py",
   "mimetype": "text/x-python",
   "name": "python",
   "nbconvert_exporter": "python",
   "pygments_lexer": "ipython3",
   "version": "3.6.3"
  }
 },
 "nbformat": 4,
 "nbformat_minor": 2
}
