{
 "cells": [
  {
   "cell_type": "code",
   "execution_count": 1,
   "metadata": {
    "scrolled": true
   },
   "outputs": [
    {
     "data": {
      "application/javascript": [
       "require.undef(\"nbextensions/vpython_libraries/glow.min\");"
      ],
      "text/plain": [
       "<IPython.core.display.Javascript object>"
      ]
     },
     "metadata": {},
     "output_type": "display_data"
    },
    {
     "data": {
      "application/javascript": [
       "require.undef(\"nbextensions/vpython_libraries/glowcomm\");"
      ],
      "text/plain": [
       "<IPython.core.display.Javascript object>"
      ]
     },
     "metadata": {},
     "output_type": "display_data"
    },
    {
     "data": {
      "application/javascript": [
       "require.undef(\"nbextensions/vpython_libraries/jquery-ui.custom.min\");"
      ],
      "text/plain": [
       "<IPython.core.display.Javascript object>"
      ]
     },
     "metadata": {},
     "output_type": "display_data"
    },
    {
     "data": {
      "application/javascript": [
       "require([\"nbextensions/vpython_libraries/glow.min\"], function(){console.log(\"GLOW LOADED\");})"
      ],
      "text/plain": [
       "<IPython.core.display.Javascript object>"
      ]
     },
     "metadata": {},
     "output_type": "display_data"
    },
    {
     "data": {
      "application/javascript": [
       "require([\"nbextensions/vpython_libraries/glowcomm\"], function(){console.log(\"GLOWCOMM LOADED\");})"
      ],
      "text/plain": [
       "<IPython.core.display.Javascript object>"
      ]
     },
     "metadata": {},
     "output_type": "display_data"
    },
    {
     "data": {
      "application/javascript": [
       "require([\"nbextensions/vpython_libraries/jquery-ui.custom.min\"], function(){console.log(\"JQUERY LOADED\");})"
      ],
      "text/plain": [
       "<IPython.core.display.Javascript object>"
      ]
     },
     "metadata": {},
     "output_type": "display_data"
    },
    {
     "data": {
      "text/html": [
       "<div id=\"glowscript\" class=\"glowscript\"></div>"
      ],
      "text/plain": [
       "<IPython.core.display.HTML object>"
      ]
     },
     "metadata": {},
     "output_type": "display_data"
    },
    {
     "data": {
      "application/javascript": [
       "window.__context = { glowscript_container: $(\"#glowscript\").removeAttr(\"id\")}"
      ],
      "text/plain": [
       "<IPython.core.display.Javascript object>"
      ]
     },
     "metadata": {},
     "output_type": "display_data"
    },
    {
     "name": "stdout",
     "output_type": "stream",
     "text": [
      "C:\\Users\\chanyoungs\\Documents\\UCL\\Summer Project\\Work with Brett\\Generated Dataset\\testing8.pov\n",
      "C:\\Users\\chanyoungs\\Documents\\UCL\\Summer Project\\Work with Brett\\Generated Dataset\\testing9.pov\n",
      "C:\\Users\\chanyoungs\\Documents\\UCL\\Summer Project\\Work with Brett\\Generated Dataset\\testing10.pov\n"
     ]
    }
   ],
   "source": [
    "from vpython import *\n",
    "import povexport\n",
    "\n",
    "ball = sphere(pos=vector(-5,0,0), radius=0.5, color=color.cyan)\n",
    "wallR = box(pos=vector(6,0,0), size=vector(0.2,12,12), color=color.green)\n",
    "\n",
    "ball.velocity = vector(25,0,0)\n",
    "\n",
    "deltat = 0.0005\n",
    "t = 0\n",
    "\n",
    "while t < 10:\n",
    "    rate(100)\n",
    "    ball.pos = ball.pos + ball.velocity * deltat\n",
    "    t += 1\n",
    "    povexport.export(filename=\"testing\"+str(t)+\".pov\")"
   ]
  },
  {
   "cell_type": "code",
   "execution_count": 2,
   "metadata": {
    "collapsed": true
   },
   "outputs": [],
   "source": [
    "\n",
    "sphere()"
   ]
  },
  {
   "cell_type": "code",
   "execution_count": 4,
   "metadata": {},
   "outputs": [
    {
     "name": "stdout",
     "output_type": "stream",
     "text": [
      "C:\\Users\\chanyoungs\\Documents\\UCL\\Summer Project\\Work with Brett\\Generated Dataset\\povray.pov\n"
     ]
    },
    {
     "data": {
      "text/plain": [
       "'The export() function no longer returns the display as an\\nendless POV-Ray string, but saves it to a file instead.'"
      ]
     },
     "execution_count": 4,
     "metadata": {},
     "output_type": "execute_result"
    }
   ],
   "source": [
    "povexport.export()"
   ]
  },
  {
   "cell_type": "code",
   "execution_count": 6,
   "metadata": {},
   "outputs": [
    {
     "name": "stdout",
     "output_type": "stream",
     "text": [
      "C:\\Users\\chanyoungs\\Documents\\UCL\\Summer Project\\Work with Brett\\Generated Dataset\\box.pov\n"
     ]
    },
    {
     "data": {
      "text/plain": [
       "'The export() function no longer returns the display as an\\nendless POV-Ray string, but saves it to a file instead.'"
      ]
     },
     "execution_count": 6,
     "metadata": {},
     "output_type": "execute_result"
    }
   ],
   "source": [
    "box()\n",
    "povexport.export(filename=\"box.pov\")"
   ]
  },
  {
   "cell_type": "code",
   "execution_count": 1,
   "metadata": {},
   "outputs": [
    {
     "ename": "ModuleNotFoundError",
     "evalue": "No module named 'OpenGL'",
     "output_type": "error",
     "traceback": [
      "\u001b[1;31m---------------------------------------------------------------------------\u001b[0m",
      "\u001b[1;31mModuleNotFoundError\u001b[0m                       Traceback (most recent call last)",
      "\u001b[1;32m<ipython-input-1-cff6d5b056e1>\u001b[0m in \u001b[0;36m<module>\u001b[1;34m()\u001b[0m\n\u001b[0;32m      8\u001b[0m \u001b[1;32mfrom\u001b[0m \u001b[0mwin32gui\u001b[0m \u001b[1;32mimport\u001b[0m \u001b[1;33m*\u001b[0m\u001b[1;33m\u001b[0m\u001b[0m\n\u001b[0;32m      9\u001b[0m \u001b[1;33m\u001b[0m\u001b[0m\n\u001b[1;32m---> 10\u001b[1;33m \u001b[1;32mfrom\u001b[0m \u001b[0mOpenGL\u001b[0m\u001b[1;33m.\u001b[0m\u001b[0mWGL\u001b[0m \u001b[1;32mimport\u001b[0m \u001b[1;33m*\u001b[0m\u001b[1;33m\u001b[0m\u001b[0m\n\u001b[0m\u001b[0;32m     11\u001b[0m \u001b[1;32mfrom\u001b[0m \u001b[0mOpenGL\u001b[0m\u001b[1;33m.\u001b[0m\u001b[0mGL\u001b[0m \u001b[1;32mimport\u001b[0m \u001b[1;33m*\u001b[0m\u001b[1;33m\u001b[0m\u001b[0m\n\u001b[0;32m     12\u001b[0m \u001b[1;32mfrom\u001b[0m \u001b[0mOpenGL\u001b[0m\u001b[1;33m.\u001b[0m\u001b[0mGLU\u001b[0m \u001b[1;32mimport\u001b[0m \u001b[1;33m*\u001b[0m\u001b[1;33m\u001b[0m\u001b[0m\n",
      "\u001b[1;31mModuleNotFoundError\u001b[0m: No module named 'OpenGL'"
     ]
    }
   ],
   "source": [
    "'''\n",
    "Offscreen rendering using manually created OpenGL Framebuffer Object\n",
    "Standalone code - not using LibGL from this repository\n",
    "'''\n",
    "\n",
    "from win32api import *\n",
    "from win32con import *\n",
    "from win32gui import *\n",
    "\n",
    "from OpenGL.WGL import *\n",
    "from OpenGL.GL import *\n",
    "from OpenGL.GLU import *\n",
    "from OpenGL.GLUT import *\n",
    "\n",
    "from PIL import Image\n",
    "from PIL import ImageOps\n",
    "\n",
    "import uuid\n",
    "\n",
    "# =========================================\n",
    "# I left here only necessary constants, it's easy to search for the rest\n",
    "\n",
    "PFD_TYPE_RGBA =         0\n",
    "PFD_MAIN_PLANE =        0\n",
    "PFD_DOUBLEBUFFER =      0x00000001\n",
    "PFD_DRAW_TO_WINDOW =    0x00000004\n",
    "PFD_SUPPORT_OPENGL =    0x00000020\n",
    "\n",
    "# =========================================\n",
    "# OpenGL context creation helpers\n",
    "\n",
    "def mywglCreateContext(hWnd):\n",
    "    pfd = PIXELFORMATDESCRIPTOR()\n",
    "\n",
    "    pfd.dwFlags = PFD_DRAW_TO_WINDOW | PFD_SUPPORT_OPENGL\n",
    "    pfd.iPixelType = PFD_TYPE_RGBA\n",
    "    pfd.cColorBits = 32\n",
    "    pfd.cDepthBits = 24\n",
    "    pfd.iLayerType = PFD_MAIN_PLANE\n",
    "\n",
    "    hdc = GetDC(hWnd)\n",
    "\n",
    "    pixelformat = ChoosePixelFormat(hdc, pfd)\n",
    "    SetPixelFormat(hdc, pixelformat, pfd)\n",
    "\n",
    "    oglrc = wglCreateContext(hdc)\n",
    "    wglMakeCurrent(hdc, oglrc)\n",
    "\n",
    "    # check is context created succesfully\n",
    "    # print \"OpenGL version:\", glGetString(GL_VERSION)\n",
    "\n",
    "\n",
    "def mywglDeleteContext():\n",
    "    hrc = wglGetCurrentContext()\n",
    "    wglMakeCurrent(0, 0)\n",
    "    if hrc: wglDeleteContext(hrc)\n",
    "\n",
    "\n",
    "# =========================================\n",
    "# OpenGL Framebuffer Objects helpers\n",
    "\n",
    "def myglCreateBuffers(width, height):\n",
    "\n",
    "    fbo = glGenFramebuffers(1)\n",
    "    color_buf = glGenRenderbuffers(1)\n",
    "    depth_buf = glGenRenderbuffers(1)\n",
    "\n",
    "    # binds created FBO to context both for read and draw\n",
    "    glBindFramebuffer(GL_FRAMEBUFFER, fbo)\n",
    "\n",
    "    # bind color render buffer\n",
    "    glBindRenderbuffer(GL_RENDERBUFFER, color_buf)\n",
    "    glRenderbufferStorage(GL_RENDERBUFFER, GL_RGBA8, width, height)\n",
    "    glFramebufferRenderbuffer(GL_FRAMEBUFFER, GL_COLOR_ATTACHMENT0, GL_RENDERBUFFER, color_buf)\n",
    "\n",
    "    # bind depth render buffer - no need for 2D, but necessary for real 3D rendering\n",
    "    glBindRenderbuffer(GL_RENDERBUFFER, depth_buf)\n",
    "    glRenderbufferStorage(GL_RENDERBUFFER, GL_DEPTH_COMPONENT, width, height)\n",
    "    glFramebufferRenderbuffer(GL_FRAMEBUFFER, GL_DEPTH_ATTACHMENT, GL_RENDERBUFFER, depth_buf)\n",
    "\n",
    "    return fbo, color_buf, depth_buf, width, height\n",
    "\n",
    "def myglDeleteBuffers(buffers):\n",
    "    fbo, color_buf, depth_buf, width, height = buffers\n",
    "    glBindFramebuffer(GL_FRAMEBUFFER, 0)\n",
    "    glDeleteRenderbuffers(1, color_buf)\n",
    "    glDeleteRenderbuffers(1, depth_buf)\n",
    "    glDeleteFramebuffers(1, fbo)\n",
    "\n",
    "def myglReadColorBuffer(buffers):\n",
    "    fbo, color_buf, depth_buf, width, height = buffers\n",
    "    glPixelStorei(GL_PACK_ALIGNMENT, 1)\n",
    "    glReadBuffer(GL_COLOR_ATTACHMENT0)\n",
    "    data = glReadPixels(0, 0, width, height, GL_RGBA, GL_UNSIGNED_BYTE)\n",
    "    return data, width, height\n",
    "\n",
    "# =========================================\n",
    "# Scene rendering\n",
    "\n",
    "def renderInit(width, height):\n",
    "\n",
    "    glClearColor(0.5, 0.5, 0.5, 1.0)\n",
    "    glColor(0.0, 1.0, 0.0)\n",
    "    gluOrtho2D(-1.0, 1.0, -1.0, 1.0)\n",
    "    glViewport(0, 0, width, height)\n",
    "\n",
    "\n",
    "def render():\n",
    "\n",
    "    glClear(GL_COLOR_BUFFER_BIT | GL_DEPTH_BUFFER_BIT)\n",
    "\n",
    "    # draw xy axis with arrows\n",
    "    glBegin(GL_LINES)\n",
    "\n",
    "    # x\n",
    "    glVertex2d(-1, 0)\n",
    "    glVertex2d(1, 0)\n",
    "    glVertex2d(1, 0)\n",
    "    glVertex2d(0.95, 0.05)\n",
    "    glVertex2d(1, 0)\n",
    "    glVertex2d(0.95, -0.05)\n",
    "\n",
    "    # y\n",
    "    glVertex2d(0, -1)\n",
    "    glVertex2d(0, 1)\n",
    "    glVertex2d(0, 1)\n",
    "    glVertex2d(0.05, 0.95)\n",
    "    glVertex2d(0, 1)\n",
    "    glVertex2d(-0.05, 0.95)\n",
    "\n",
    "    glEnd()\n",
    "\n",
    "    glFlush()\n",
    "\n",
    "# =========================================\n",
    "# Windows stuff and main steps\n",
    "\n",
    "def main():\n",
    "\n",
    "    # Create window first with Win32 API\n",
    "\n",
    "    hInstance = GetModuleHandle(None)\n",
    "\n",
    "    wndClass = WNDCLASS()\n",
    "\n",
    "    wndClass.lpfnWndProc = DefWindowProc\n",
    "    wndClass.hInstance = hInstance\n",
    "    wndClass.hbrBackground = GetStockObject(WHITE_BRUSH)\n",
    "    wndClass.hCursor = LoadCursor(0, IDC_ARROW)\n",
    "    wndClass.lpszClassName = str(uuid.uuid4())\n",
    "    wndClass.style = CS_OWNDC\n",
    "\n",
    "    wndClassAtom = RegisterClass(wndClass)\n",
    "\n",
    "    # don't care about window size, couse we will create independent buffers\n",
    "    hWnd = CreateWindow(wndClassAtom, '', WS_POPUP, 0, 0, 1, 1, 0, 0, hInstance, None)\n",
    "\n",
    "    # Ok, window created, now we can create OpenGL context\n",
    "\n",
    "    mywglCreateContext(hWnd)\n",
    "\n",
    "    # In OpenGL context create Framebuffer Object (FBO) and attach Color and Depth render buffers to it\n",
    "\n",
    "    width, height = 300, 300\n",
    "    buffers = myglCreateBuffers(width, height)\n",
    "\n",
    "    # Init our renderer\n",
    "    renderInit(width, height)\n",
    "\n",
    "    # Now everything is ready for job to be done!\n",
    "    # Render something and save it to file\n",
    "\n",
    "    render()\n",
    "\n",
    "    data, width, height = myglReadColorBuffer(buffers)\n",
    "    image = Image.frombytes(\"RGBA\", (width, height), data)\n",
    "    image = ImageOps.flip(image) # in my case image is flipped top-bottom for some reason\n",
    "\n",
    "    # it's easy to achive antialiasing effect by resizing rendered image\n",
    "    # don't forget to increase initial rendered image resolution and line thikness for 2D\n",
    "    #image = image.resize((width/2, height/2), Image.ANTIALIAS)\n",
    "\n",
    "    image.save(\"fbo.png\", \"PNG\")\n",
    "\n",
    "    # Shutdown everything\n",
    "    myglDeleteBuffers(buffers)\n",
    "    mywglDeleteContext()\n",
    "\n",
    "main()"
   ]
  },
  {
   "cell_type": "code",
   "execution_count": 4,
   "metadata": {},
   "outputs": [
    {
     "ename": "ModuleNotFoundError",
     "evalue": "No module named 'PyOpenGL'",
     "output_type": "error",
     "traceback": [
      "\u001b[1;31m---------------------------------------------------------------------------\u001b[0m",
      "\u001b[1;31mModuleNotFoundError\u001b[0m                       Traceback (most recent call last)",
      "\u001b[1;32m<ipython-input-4-c4703b288894>\u001b[0m in \u001b[0;36m<module>\u001b[1;34m()\u001b[0m\n\u001b[1;32m----> 1\u001b[1;33m \u001b[1;32mimport\u001b[0m \u001b[0mPyOpenGL\u001b[0m\u001b[1;33m\u001b[0m\u001b[0m\n\u001b[0m",
      "\u001b[1;31mModuleNotFoundError\u001b[0m: No module named 'PyOpenGL'"
     ]
    }
   ],
   "source": [
    "import PyOpenGL"
   ]
  },
  {
   "cell_type": "code",
   "execution_count": null,
   "metadata": {
    "collapsed": true
   },
   "outputs": [],
   "source": []
  }
 ],
 "metadata": {
  "kernelspec": {
   "display_name": "VPython",
   "language": "python",
   "name": "vpython"
  }
 },
 "nbformat": 4,
 "nbformat_minor": 2
}
